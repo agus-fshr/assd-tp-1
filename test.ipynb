{
 "cells": [
  {
   "cell_type": "code",
   "execution_count": 4,
   "metadata": {},
   "outputs": [],
   "source": [
    "import snh as snh\n",
    "import copy\n",
    "\n",
    "# Create a new instance of the simulator\n",
    "#           (time, time step)\n",
    "sim = snh.Sim(1e-3, 1e-9)\n",
    "\n",
    "# Create the components you want in the circuit\n",
    "#                                   (f, Vpp, duty)\n",
    "my_square_wave = sim.gen_square_wave(7.5e3, 1, 0.75)\n",
    "my_filter = snh.Filter(fp=35e3, fa=2*35e3, Ap=1, Aa=40)\n",
    "my_zoh = snh.ZOH(f_sample=1e6, sim=sim)\n",
    "my_switch = snh.Switch(f_sample=1e6, sim=sim)\n",
    "my_recovery_filter = copy.deepcopy(my_filter)"
   ]
  },
  {
   "cell_type": "code",
   "execution_count": 5,
   "metadata": {},
   "outputs": [],
   "source": [
    "# Connect everything\n",
    "sim.makeCircuit({\n",
    "    'square_wave': my_square_wave,\n",
    "    'filter': my_filter,\n",
    "    'zoh': my_zoh,\n",
    "    'switch': my_switch,\n",
    "    'recovery_filter': my_recovery_filter\n",
    "})"
   ]
  },
  {
   "cell_type": "code",
   "execution_count": 11,
   "metadata": {},
   "outputs": [
    {
     "name": "stdout",
     "output_type": "stream",
     "text": [
      "'square_wave'        [1. 1. 1. ... 1. 1. 1.]\n",
      "'filter'             <snh.Filter object at 0x0000017D5800A420>\n",
      "'zoh'                <snh.ZOH object at 0x0000017D76B2E2A0>\n",
      "'switch'             <snh.Switch object at 0x0000017D52BE6A50>\n",
      "'recovery_filter'    <snh.Filter object at 0x0000017D57FC23C0>\n"
     ]
    }
   ],
   "source": [
    "# SIMULATE\n",
    "curr_in_wave = []\n",
    "curr_out_wave = []\n",
    "sim.traces = {}\n",
    "for k,v in sim.components.items():\n",
    "    print(f\"'{k}'\".ljust(20), v)    \n"
   ]
  },
  {
   "cell_type": "code",
   "execution_count": 12,
   "metadata": {},
   "outputs": [],
   "source": [
    "import matplotlib.pyplot as plt\n",
    "\n",
    "wave = sim.components['square_wave']\n",
    "\n",
    "plt.plot(wave.time, wave.voltage)"
   ]
  }
 ],
 "metadata": {
  "kernelspec": {
   "display_name": "Python 3",
   "language": "python",
   "name": "python3"
  },
  "language_info": {
   "codemirror_mode": {
    "name": "ipython",
    "version": 3
   },
   "file_extension": ".py",
   "mimetype": "text/x-python",
   "name": "python",
   "nbconvert_exporter": "python",
   "pygments_lexer": "ipython3",
   "version": "3.12.1"
  }
 },
 "nbformat": 4,
 "nbformat_minor": 2
}
